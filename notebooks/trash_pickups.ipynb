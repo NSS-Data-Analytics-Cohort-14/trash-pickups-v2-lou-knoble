{
 "cells": [
  {
   "cell_type": "markdown",
   "id": "1353e7f9-c64f-4e0e-8a05-68ee0aca23c1",
   "metadata": {},
   "source": [
    "## Missed Trash Pickups\n",
    "\n",
    "In this data question you will be working data of service request related to missed trash pickups from hubNashville, Metro Nashville government's comprehensive customer service system (https://hub.nashville.gov).\n",
    "\n",
    "As part of Metro's contract with Red River Waste Solutions, failure to remedy an action or inaction will result in liquidated damages. One category of liquidated damages is related to chronic problems in any category of service at the same premises. A chronic problem is defined as more than one missed pickup for any address. The first missed pickup will not result in a fine; however, every subsequent missed pickup will result in a $200 fine.\n",
    "\n",
    "Your job is to determine the total amount of damages due to missed pickups. Note that not all rows that you have been provided correspond to missed pickups and that you will need to ensure that you are only counting missed pickups.\n",
    "\n",
    "After determining the total amount of damages, you can look at other questions:\n",
    "\n",
    "* What other types of complaints are there?\n",
    "* Are there any geospatial analysis you can do?  Which visualizations can you create?\n",
    "* How do metro crews compare to the contractor's performance?\n",
    "* How much does each trash hauler owe?\n",
    "* What were to total missed pickup by route?"
   ]
  },
  {
   "cell_type": "code",
   "execution_count": 1,
   "id": "942446d4-055f-4b56-83ed-84215d140777",
   "metadata": {},
   "outputs": [],
   "source": [
    "import pandas as pd\n",
    "import geopandas as gpd\n",
    "import matplotlib.pyplot as plt\n",
    "import folium\n",
    "from folium.plugins import MarkerCluster\n",
    "from folium.plugins import FastMarkerCluster\n",
    "import branca"
   ]
  },
  {
   "cell_type": "code",
   "execution_count": 2,
   "id": "a03b0e87-fd79-4ba3-ae0c-184dcd1de720",
   "metadata": {},
   "outputs": [
    {
     "data": {
      "text/html": [
       "<div>\n",
       "<style scoped>\n",
       "    .dataframe tbody tr th:only-of-type {\n",
       "        vertical-align: middle;\n",
       "    }\n",
       "\n",
       "    .dataframe tbody tr th {\n",
       "        vertical-align: top;\n",
       "    }\n",
       "\n",
       "    .dataframe thead th {\n",
       "        text-align: right;\n",
       "    }\n",
       "</style>\n",
       "<table border=\"1\" class=\"dataframe\">\n",
       "  <thead>\n",
       "    <tr style=\"text-align: right;\">\n",
       "      <th></th>\n",
       "      <th>Request Number</th>\n",
       "      <th>Date Opened</th>\n",
       "      <th>Request</th>\n",
       "      <th>Description</th>\n",
       "      <th>Incident Address</th>\n",
       "      <th>Zip Code</th>\n",
       "      <th>Trash Hauler</th>\n",
       "      <th>Trash Route</th>\n",
       "      <th>Council District</th>\n",
       "      <th>State Plan X</th>\n",
       "      <th>State Plan Y</th>\n",
       "      <th>LONGITUDE</th>\n",
       "      <th>LATITUDE</th>\n",
       "      <th>geometry</th>\n",
       "    </tr>\n",
       "  </thead>\n",
       "  <tbody>\n",
       "    <tr>\n",
       "      <th>0</th>\n",
       "      <td>25270</td>\n",
       "      <td>11/1/2017</td>\n",
       "      <td>Trash - Backdoor</td>\n",
       "      <td>house with the wheel chair ramp, they share dr...</td>\n",
       "      <td>3817 Crouch Dr</td>\n",
       "      <td>37207</td>\n",
       "      <td>RED RIVER</td>\n",
       "      <td>3205</td>\n",
       "      <td>2</td>\n",
       "      <td>1727970.412</td>\n",
       "      <td>686779.4781</td>\n",
       "      <td>-86.81539226</td>\n",
       "      <td>36.21729166</td>\n",
       "      <td>None</td>\n",
       "    </tr>\n",
       "    <tr>\n",
       "      <th>1</th>\n",
       "      <td>25274</td>\n",
       "      <td>11/1/2017</td>\n",
       "      <td>Trash - Curbside/Alley Missed Pickup</td>\n",
       "      <td>Curb/Trash miss Tuesday.</td>\n",
       "      <td>4028 Clarksville Pike</td>\n",
       "      <td>37218</td>\n",
       "      <td>RED RIVER</td>\n",
       "      <td>4202</td>\n",
       "      <td>1</td>\n",
       "      <td>1721259.366</td>\n",
       "      <td>685444.7996</td>\n",
       "      <td>-86.83810278</td>\n",
       "      <td>36.21346977</td>\n",
       "      <td>None</td>\n",
       "    </tr>\n",
       "    <tr>\n",
       "      <th>2</th>\n",
       "      <td>25276</td>\n",
       "      <td>11/1/2017</td>\n",
       "      <td>Trash - Curbside/Alley Missed Pickup</td>\n",
       "      <td>Curb/trash miss Tuesday.</td>\n",
       "      <td>6528 Thunderbird Dr</td>\n",
       "      <td>37209</td>\n",
       "      <td>RED RIVER</td>\n",
       "      <td>4205</td>\n",
       "      <td>20</td>\n",
       "      <td>1707026.753</td>\n",
       "      <td>659887.4716</td>\n",
       "      <td>-86.8855624</td>\n",
       "      <td>36.14292283</td>\n",
       "      <td>None</td>\n",
       "    </tr>\n",
       "    <tr>\n",
       "      <th>3</th>\n",
       "      <td>25307</td>\n",
       "      <td>11/1/2017</td>\n",
       "      <td>Trash - Curbside/Alley Missed Pickup</td>\n",
       "      <td>missed</td>\n",
       "      <td>2603 old matthews rd</td>\n",
       "      <td>37207</td>\n",
       "      <td>WASTE IND</td>\n",
       "      <td>2206</td>\n",
       "      <td>2</td>\n",
       "      <td>1735691.771</td>\n",
       "      <td>685027.2459</td>\n",
       "      <td>-86.7891702</td>\n",
       "      <td>36.21265241</td>\n",
       "      <td>None</td>\n",
       "    </tr>\n",
       "    <tr>\n",
       "      <th>4</th>\n",
       "      <td>25312</td>\n",
       "      <td>11/1/2017</td>\n",
       "      <td>Trash - Curbside/Alley Missed Pickup</td>\n",
       "      <td>Missed the even side of the road.</td>\n",
       "      <td>604 croley dr</td>\n",
       "      <td>37209</td>\n",
       "      <td>RED RIVER</td>\n",
       "      <td>4203</td>\n",
       "      <td>20</td>\n",
       "      <td>1710185.772</td>\n",
       "      <td>664205.1011</td>\n",
       "      <td>-86.87499468</td>\n",
       "      <td>36.15486093</td>\n",
       "      <td>None</td>\n",
       "    </tr>\n",
       "  </tbody>\n",
       "</table>\n",
       "</div>"
      ],
      "text/plain": [
       "  Request Number Date Opened                               Request  \\\n",
       "0          25270   11/1/2017                      Trash - Backdoor   \n",
       "1          25274   11/1/2017  Trash - Curbside/Alley Missed Pickup   \n",
       "2          25276   11/1/2017  Trash - Curbside/Alley Missed Pickup   \n",
       "3          25307   11/1/2017  Trash - Curbside/Alley Missed Pickup   \n",
       "4          25312   11/1/2017  Trash - Curbside/Alley Missed Pickup   \n",
       "\n",
       "                                         Description       Incident Address  \\\n",
       "0  house with the wheel chair ramp, they share dr...         3817 Crouch Dr   \n",
       "1                           Curb/Trash miss Tuesday.  4028 Clarksville Pike   \n",
       "2                           Curb/trash miss Tuesday.    6528 Thunderbird Dr   \n",
       "3                                             missed   2603 old matthews rd   \n",
       "4                  Missed the even side of the road.          604 croley dr   \n",
       "\n",
       "  Zip Code Trash Hauler Trash Route Council District State Plan X  \\\n",
       "0    37207    RED RIVER        3205                2  1727970.412   \n",
       "1    37218    RED RIVER        4202                1  1721259.366   \n",
       "2    37209    RED RIVER        4205               20  1707026.753   \n",
       "3    37207    WASTE IND        2206                2  1735691.771   \n",
       "4    37209    RED RIVER        4203               20  1710185.772   \n",
       "\n",
       "  State Plan Y     LONGITUDE     LATITUDE geometry  \n",
       "0  686779.4781  -86.81539226  36.21729166     None  \n",
       "1  685444.7996  -86.83810278  36.21346977     None  \n",
       "2  659887.4716   -86.8855624  36.14292283     None  \n",
       "3  685027.2459   -86.7891702  36.21265241     None  \n",
       "4  664205.1011  -86.87499468  36.15486093     None  "
      ]
     },
     "execution_count": 2,
     "metadata": {},
     "output_type": "execute_result"
    }
   ],
   "source": [
    "tp = gpd.read_file('../data/trash_hauler_report_with_lat_lng.csv')\n",
    "tp.head()"
   ]
  },
  {
   "cell_type": "code",
   "execution_count": 3,
   "id": "74108517-7ae2-4e8c-8dc8-406ddfa9eaf9",
   "metadata": {},
   "outputs": [
    {
     "data": {
      "text/html": [
       "<div>\n",
       "<style scoped>\n",
       "    .dataframe tbody tr th:only-of-type {\n",
       "        vertical-align: middle;\n",
       "    }\n",
       "\n",
       "    .dataframe tbody tr th {\n",
       "        vertical-align: top;\n",
       "    }\n",
       "\n",
       "    .dataframe thead th {\n",
       "        text-align: right;\n",
       "    }\n",
       "</style>\n",
       "<table border=\"1\" class=\"dataframe\">\n",
       "  <thead>\n",
       "    <tr style=\"text-align: right;\">\n",
       "      <th></th>\n",
       "      <th>Request Number</th>\n",
       "      <th>Date Opened</th>\n",
       "      <th>Request</th>\n",
       "      <th>Description</th>\n",
       "      <th>Incident Address</th>\n",
       "      <th>Zip Code</th>\n",
       "      <th>Trash Hauler</th>\n",
       "      <th>Trash Route</th>\n",
       "      <th>Council District</th>\n",
       "      <th>State Plan X</th>\n",
       "      <th>State Plan Y</th>\n",
       "      <th>LONGITUDE</th>\n",
       "      <th>LATITUDE</th>\n",
       "      <th>geometry</th>\n",
       "    </tr>\n",
       "  </thead>\n",
       "  <tbody>\n",
       "    <tr>\n",
       "      <th>20221</th>\n",
       "      <td>267125</td>\n",
       "      <td>11/1/2019</td>\n",
       "      <td>Trash - Curbside/Alley Missed Pickup</td>\n",
       "      <td>MISSED...NEIGHBORS MISSED</td>\n",
       "      <td>2731 Murfreesboro Pike</td>\n",
       "      <td>37013</td>\n",
       "      <td>RED RIVER</td>\n",
       "      <td>4502</td>\n",
       "      <td>32</td>\n",
       "      <td>1781137.263</td>\n",
       "      <td>632448.5511</td>\n",
       "      <td>-86.63397</td>\n",
       "      <td>36.06913</td>\n",
       "      <td>None</td>\n",
       "    </tr>\n",
       "    <tr>\n",
       "      <th>20222</th>\n",
       "      <td>267126</td>\n",
       "      <td>11/1/2019</td>\n",
       "      <td>Trash - Curbside/Alley Missed Pickup</td>\n",
       "      <td>entire alley</td>\n",
       "      <td>1621 Long Ave, Nashville, TN 37206, United States</td>\n",
       "      <td>37206</td>\n",
       "      <td>METRO</td>\n",
       "      <td>9508</td>\n",
       "      <td>6</td>\n",
       "      <td>1749711.399</td>\n",
       "      <td>669201.6016</td>\n",
       "      <td>-86.74124224</td>\n",
       "      <td>36.16948232</td>\n",
       "      <td>None</td>\n",
       "    </tr>\n",
       "    <tr>\n",
       "      <th>20223</th>\n",
       "      <td>267130</td>\n",
       "      <td>11/1/2019</td>\n",
       "      <td>Trash - Curbside/Alley Missed Pickup</td>\n",
       "      <td>missed several</td>\n",
       "      <td>2943 Windemere Cir, Nashville, TN 37214, Unite...</td>\n",
       "      <td>37214</td>\n",
       "      <td>RED RIVER</td>\n",
       "      <td>1502</td>\n",
       "      <td>15</td>\n",
       "      <td>1770293.388</td>\n",
       "      <td>674936.3038</td>\n",
       "      <td>-86.67164737</td>\n",
       "      <td>36.18564312</td>\n",
       "      <td>None</td>\n",
       "    </tr>\n",
       "    <tr>\n",
       "      <th>20224</th>\n",
       "      <td>267134</td>\n",
       "      <td>11/1/2019</td>\n",
       "      <td>Trash - Curbside/Alley Missed Pickup</td>\n",
       "      <td>Caller stated trash was missed &amp; were only pic...</td>\n",
       "      <td>3325 Murfreesboro Pike, Nashville, TN 37013, U...</td>\n",
       "      <td>37013</td>\n",
       "      <td>RED RIVER</td>\n",
       "      <td>4502</td>\n",
       "      <td>32</td>\n",
       "      <td>1785224.998</td>\n",
       "      <td>627146.4002</td>\n",
       "      <td>-86.62002525</td>\n",
       "      <td>36.05463692</td>\n",
       "      <td>None</td>\n",
       "    </tr>\n",
       "    <tr>\n",
       "      <th>20225</th>\n",
       "      <td>267137</td>\n",
       "      <td>11/1/2019</td>\n",
       "      <td>Trash - Curbside/Alley Missed Pickup</td>\n",
       "      <td>possibly others missed as well</td>\n",
       "      <td>604 Somerset Ct, Nashville, TN 37217, United S...</td>\n",
       "      <td>37217</td>\n",
       "      <td>RED RIVER</td>\n",
       "      <td>2505</td>\n",
       "      <td>29</td>\n",
       "      <td>1781360.323</td>\n",
       "      <td>637742.0068</td>\n",
       "      <td>-86.63333117</td>\n",
       "      <td>36.08367504</td>\n",
       "      <td>None</td>\n",
       "    </tr>\n",
       "  </tbody>\n",
       "</table>\n",
       "</div>"
      ],
      "text/plain": [
       "      Request Number Date Opened                               Request  \\\n",
       "20221         267125   11/1/2019  Trash - Curbside/Alley Missed Pickup   \n",
       "20222         267126   11/1/2019  Trash - Curbside/Alley Missed Pickup   \n",
       "20223         267130   11/1/2019  Trash - Curbside/Alley Missed Pickup   \n",
       "20224         267134   11/1/2019  Trash - Curbside/Alley Missed Pickup   \n",
       "20225         267137   11/1/2019  Trash - Curbside/Alley Missed Pickup   \n",
       "\n",
       "                                             Description  \\\n",
       "20221                          MISSED...NEIGHBORS MISSED   \n",
       "20222                                       entire alley   \n",
       "20223                                     missed several   \n",
       "20224  Caller stated trash was missed & were only pic...   \n",
       "20225                     possibly others missed as well   \n",
       "\n",
       "                                        Incident Address Zip Code  \\\n",
       "20221                             2731 Murfreesboro Pike    37013   \n",
       "20222  1621 Long Ave, Nashville, TN 37206, United States    37206   \n",
       "20223  2943 Windemere Cir, Nashville, TN 37214, Unite...    37214   \n",
       "20224  3325 Murfreesboro Pike, Nashville, TN 37013, U...    37013   \n",
       "20225  604 Somerset Ct, Nashville, TN 37217, United S...    37217   \n",
       "\n",
       "      Trash Hauler Trash Route Council District State Plan X State Plan Y  \\\n",
       "20221    RED RIVER        4502               32  1781137.263  632448.5511   \n",
       "20222        METRO        9508                6  1749711.399  669201.6016   \n",
       "20223    RED RIVER        1502               15  1770293.388  674936.3038   \n",
       "20224    RED RIVER        4502               32  1785224.998  627146.4002   \n",
       "20225    RED RIVER        2505               29  1781360.323  637742.0068   \n",
       "\n",
       "          LONGITUDE     LATITUDE geometry  \n",
       "20221     -86.63397     36.06913     None  \n",
       "20222  -86.74124224  36.16948232     None  \n",
       "20223  -86.67164737  36.18564312     None  \n",
       "20224  -86.62002525  36.05463692     None  \n",
       "20225  -86.63333117  36.08367504     None  "
      ]
     },
     "execution_count": 3,
     "metadata": {},
     "output_type": "execute_result"
    }
   ],
   "source": [
    "tp.tail()"
   ]
  },
  {
   "cell_type": "code",
   "execution_count": 4,
   "id": "e29eab1d-2c1f-4c87-812e-af0cc46ed56e",
   "metadata": {},
   "outputs": [
    {
     "data": {
      "text/plain": [
       "(20226, 14)"
      ]
     },
     "execution_count": 4,
     "metadata": {},
     "output_type": "execute_result"
    }
   ],
   "source": [
    "tp.shape"
   ]
  },
  {
   "cell_type": "markdown",
   "id": "e4a15093-e04d-4c13-adab-708afb119984",
   "metadata": {},
   "source": [
    "Reshaping and Renaming Dataframe"
   ]
  },
  {
   "cell_type": "code",
   "execution_count": 5,
   "id": "7a912f66-c72d-47d1-a813-cfd714462700",
   "metadata": {},
   "outputs": [],
   "source": [
    "tp = tp.drop(columns = ['geometry'])"
   ]
  },
  {
   "cell_type": "code",
   "execution_count": 6,
   "id": "ce3274c0-013d-4120-96fc-f0b614e2fc17",
   "metadata": {},
   "outputs": [
    {
     "data": {
      "text/html": [
       "<div>\n",
       "<style scoped>\n",
       "    .dataframe tbody tr th:only-of-type {\n",
       "        vertical-align: middle;\n",
       "    }\n",
       "\n",
       "    .dataframe tbody tr th {\n",
       "        vertical-align: top;\n",
       "    }\n",
       "\n",
       "    .dataframe thead th {\n",
       "        text-align: right;\n",
       "    }\n",
       "</style>\n",
       "<table border=\"1\" class=\"dataframe\">\n",
       "  <thead>\n",
       "    <tr style=\"text-align: right;\">\n",
       "      <th></th>\n",
       "      <th>request_num</th>\n",
       "      <th>date_opened</th>\n",
       "      <th>request</th>\n",
       "      <th>desc</th>\n",
       "      <th>address</th>\n",
       "      <th>zip</th>\n",
       "      <th>truck</th>\n",
       "      <th>route</th>\n",
       "      <th>cdistrict</th>\n",
       "      <th>spx</th>\n",
       "      <th>spy</th>\n",
       "      <th>lon</th>\n",
       "      <th>lat</th>\n",
       "    </tr>\n",
       "  </thead>\n",
       "  <tbody>\n",
       "    <tr>\n",
       "      <th>0</th>\n",
       "      <td>25270</td>\n",
       "      <td>11/1/2017</td>\n",
       "      <td>Trash - Backdoor</td>\n",
       "      <td>house with the wheel chair ramp, they share dr...</td>\n",
       "      <td>3817 Crouch Dr</td>\n",
       "      <td>37207</td>\n",
       "      <td>RED RIVER</td>\n",
       "      <td>3205</td>\n",
       "      <td>2</td>\n",
       "      <td>1727970.412</td>\n",
       "      <td>686779.4781</td>\n",
       "      <td>-86.81539226</td>\n",
       "      <td>36.21729166</td>\n",
       "    </tr>\n",
       "    <tr>\n",
       "      <th>1</th>\n",
       "      <td>25274</td>\n",
       "      <td>11/1/2017</td>\n",
       "      <td>Trash - Curbside/Alley Missed Pickup</td>\n",
       "      <td>Curb/Trash miss Tuesday.</td>\n",
       "      <td>4028 Clarksville Pike</td>\n",
       "      <td>37218</td>\n",
       "      <td>RED RIVER</td>\n",
       "      <td>4202</td>\n",
       "      <td>1</td>\n",
       "      <td>1721259.366</td>\n",
       "      <td>685444.7996</td>\n",
       "      <td>-86.83810278</td>\n",
       "      <td>36.21346977</td>\n",
       "    </tr>\n",
       "    <tr>\n",
       "      <th>2</th>\n",
       "      <td>25276</td>\n",
       "      <td>11/1/2017</td>\n",
       "      <td>Trash - Curbside/Alley Missed Pickup</td>\n",
       "      <td>Curb/trash miss Tuesday.</td>\n",
       "      <td>6528 Thunderbird Dr</td>\n",
       "      <td>37209</td>\n",
       "      <td>RED RIVER</td>\n",
       "      <td>4205</td>\n",
       "      <td>20</td>\n",
       "      <td>1707026.753</td>\n",
       "      <td>659887.4716</td>\n",
       "      <td>-86.8855624</td>\n",
       "      <td>36.14292283</td>\n",
       "    </tr>\n",
       "    <tr>\n",
       "      <th>3</th>\n",
       "      <td>25307</td>\n",
       "      <td>11/1/2017</td>\n",
       "      <td>Trash - Curbside/Alley Missed Pickup</td>\n",
       "      <td>missed</td>\n",
       "      <td>2603 old matthews rd</td>\n",
       "      <td>37207</td>\n",
       "      <td>WASTE IND</td>\n",
       "      <td>2206</td>\n",
       "      <td>2</td>\n",
       "      <td>1735691.771</td>\n",
       "      <td>685027.2459</td>\n",
       "      <td>-86.7891702</td>\n",
       "      <td>36.21265241</td>\n",
       "    </tr>\n",
       "    <tr>\n",
       "      <th>4</th>\n",
       "      <td>25312</td>\n",
       "      <td>11/1/2017</td>\n",
       "      <td>Trash - Curbside/Alley Missed Pickup</td>\n",
       "      <td>Missed the even side of the road.</td>\n",
       "      <td>604 croley dr</td>\n",
       "      <td>37209</td>\n",
       "      <td>RED RIVER</td>\n",
       "      <td>4203</td>\n",
       "      <td>20</td>\n",
       "      <td>1710185.772</td>\n",
       "      <td>664205.1011</td>\n",
       "      <td>-86.87499468</td>\n",
       "      <td>36.15486093</td>\n",
       "    </tr>\n",
       "  </tbody>\n",
       "</table>\n",
       "</div>"
      ],
      "text/plain": [
       "  request_num date_opened                               request  \\\n",
       "0       25270   11/1/2017                      Trash - Backdoor   \n",
       "1       25274   11/1/2017  Trash - Curbside/Alley Missed Pickup   \n",
       "2       25276   11/1/2017  Trash - Curbside/Alley Missed Pickup   \n",
       "3       25307   11/1/2017  Trash - Curbside/Alley Missed Pickup   \n",
       "4       25312   11/1/2017  Trash - Curbside/Alley Missed Pickup   \n",
       "\n",
       "                                                desc                address  \\\n",
       "0  house with the wheel chair ramp, they share dr...         3817 Crouch Dr   \n",
       "1                           Curb/Trash miss Tuesday.  4028 Clarksville Pike   \n",
       "2                           Curb/trash miss Tuesday.    6528 Thunderbird Dr   \n",
       "3                                             missed   2603 old matthews rd   \n",
       "4                  Missed the even side of the road.          604 croley dr   \n",
       "\n",
       "     zip      truck route cdistrict          spx          spy           lon  \\\n",
       "0  37207  RED RIVER  3205         2  1727970.412  686779.4781  -86.81539226   \n",
       "1  37218  RED RIVER  4202         1  1721259.366  685444.7996  -86.83810278   \n",
       "2  37209  RED RIVER  4205        20  1707026.753  659887.4716   -86.8855624   \n",
       "3  37207  WASTE IND  2206         2  1735691.771  685027.2459   -86.7891702   \n",
       "4  37209  RED RIVER  4203        20  1710185.772  664205.1011  -86.87499468   \n",
       "\n",
       "           lat  \n",
       "0  36.21729166  \n",
       "1  36.21346977  \n",
       "2  36.14292283  \n",
       "3  36.21265241  \n",
       "4  36.15486093  "
      ]
     },
     "execution_count": 6,
     "metadata": {},
     "output_type": "execute_result"
    }
   ],
   "source": [
    "tp = tp.rename(columns = {\n",
    "    \"Request Number\" : \"request_num\",\n",
    "    \"Date Opened\" : \"date_opened\",\n",
    "    \"Request\" : 'request',\n",
    "    \"Description\" : \"desc\",\n",
    "    \"Incident Address\" : \"address\",\n",
    "    \"Zip Code\" : \"zip\",\n",
    "    \"Trash Hauler\" : 'truck',\n",
    "    \"Trash Route\" : 'route',\n",
    "    \"Council District\" : 'cdistrict',\n",
    "    \"State Plan X\" : \"spx\",\n",
    "    \"State Plan Y\" : \"spy\",\n",
    "    \"LATITUDE\" : \"lat\",\n",
    "    \"LONGITUDE\" : \"lon\"})\n",
    "tp.head()"
   ]
  },
  {
   "cell_type": "markdown",
   "id": "1d374bac-74d9-4e2f-9aff-4131cf3e99b4",
   "metadata": {},
   "source": [
    "Filter by red river truck only!"
   ]
  },
  {
   "cell_type": "markdown",
   "id": "f216b43a-a459-46a5-a63a-73ecb1c83c29",
   "metadata": {},
   "source": [
    "Checking if column 'request' contains substring 'Miss' AND creating new boolean column from results"
   ]
  },
  {
   "cell_type": "code",
   "execution_count": 7,
   "id": "675f476c-4dc0-425a-b296-4a679c1eaf36",
   "metadata": {},
   "outputs": [],
   "source": [
    "tp['miss'] = (tp['request'].str.contains('Miss').map({True : 'yes', False : 'no'}))"
   ]
  },
  {
   "cell_type": "code",
   "execution_count": 8,
   "id": "9cd82a93-5077-447f-b23a-bd60ce281a87",
   "metadata": {
    "scrolled": true
   },
   "outputs": [
    {
     "data": {
      "text/html": [
       "<div>\n",
       "<style scoped>\n",
       "    .dataframe tbody tr th:only-of-type {\n",
       "        vertical-align: middle;\n",
       "    }\n",
       "\n",
       "    .dataframe tbody tr th {\n",
       "        vertical-align: top;\n",
       "    }\n",
       "\n",
       "    .dataframe thead th {\n",
       "        text-align: right;\n",
       "    }\n",
       "</style>\n",
       "<table border=\"1\" class=\"dataframe\">\n",
       "  <thead>\n",
       "    <tr style=\"text-align: right;\">\n",
       "      <th></th>\n",
       "      <th>request_num</th>\n",
       "      <th>date_opened</th>\n",
       "      <th>request</th>\n",
       "      <th>desc</th>\n",
       "      <th>address</th>\n",
       "      <th>zip</th>\n",
       "      <th>truck</th>\n",
       "      <th>route</th>\n",
       "      <th>cdistrict</th>\n",
       "      <th>spx</th>\n",
       "      <th>spy</th>\n",
       "      <th>lon</th>\n",
       "      <th>lat</th>\n",
       "      <th>miss</th>\n",
       "    </tr>\n",
       "  </thead>\n",
       "  <tbody>\n",
       "    <tr>\n",
       "      <th>0</th>\n",
       "      <td>25270</td>\n",
       "      <td>11/1/2017</td>\n",
       "      <td>Trash - Backdoor</td>\n",
       "      <td>house with the wheel chair ramp, they share dr...</td>\n",
       "      <td>3817 Crouch Dr</td>\n",
       "      <td>37207</td>\n",
       "      <td>RED RIVER</td>\n",
       "      <td>3205</td>\n",
       "      <td>2</td>\n",
       "      <td>1727970.412</td>\n",
       "      <td>686779.4781</td>\n",
       "      <td>-86.81539226</td>\n",
       "      <td>36.21729166</td>\n",
       "      <td>no</td>\n",
       "    </tr>\n",
       "    <tr>\n",
       "      <th>1</th>\n",
       "      <td>25274</td>\n",
       "      <td>11/1/2017</td>\n",
       "      <td>Trash - Curbside/Alley Missed Pickup</td>\n",
       "      <td>Curb/Trash miss Tuesday.</td>\n",
       "      <td>4028 Clarksville Pike</td>\n",
       "      <td>37218</td>\n",
       "      <td>RED RIVER</td>\n",
       "      <td>4202</td>\n",
       "      <td>1</td>\n",
       "      <td>1721259.366</td>\n",
       "      <td>685444.7996</td>\n",
       "      <td>-86.83810278</td>\n",
       "      <td>36.21346977</td>\n",
       "      <td>yes</td>\n",
       "    </tr>\n",
       "    <tr>\n",
       "      <th>2</th>\n",
       "      <td>25276</td>\n",
       "      <td>11/1/2017</td>\n",
       "      <td>Trash - Curbside/Alley Missed Pickup</td>\n",
       "      <td>Curb/trash miss Tuesday.</td>\n",
       "      <td>6528 Thunderbird Dr</td>\n",
       "      <td>37209</td>\n",
       "      <td>RED RIVER</td>\n",
       "      <td>4205</td>\n",
       "      <td>20</td>\n",
       "      <td>1707026.753</td>\n",
       "      <td>659887.4716</td>\n",
       "      <td>-86.8855624</td>\n",
       "      <td>36.14292283</td>\n",
       "      <td>yes</td>\n",
       "    </tr>\n",
       "    <tr>\n",
       "      <th>3</th>\n",
       "      <td>25307</td>\n",
       "      <td>11/1/2017</td>\n",
       "      <td>Trash - Curbside/Alley Missed Pickup</td>\n",
       "      <td>missed</td>\n",
       "      <td>2603 old matthews rd</td>\n",
       "      <td>37207</td>\n",
       "      <td>WASTE IND</td>\n",
       "      <td>2206</td>\n",
       "      <td>2</td>\n",
       "      <td>1735691.771</td>\n",
       "      <td>685027.2459</td>\n",
       "      <td>-86.7891702</td>\n",
       "      <td>36.21265241</td>\n",
       "      <td>yes</td>\n",
       "    </tr>\n",
       "    <tr>\n",
       "      <th>4</th>\n",
       "      <td>25312</td>\n",
       "      <td>11/1/2017</td>\n",
       "      <td>Trash - Curbside/Alley Missed Pickup</td>\n",
       "      <td>Missed the even side of the road.</td>\n",
       "      <td>604 croley dr</td>\n",
       "      <td>37209</td>\n",
       "      <td>RED RIVER</td>\n",
       "      <td>4203</td>\n",
       "      <td>20</td>\n",
       "      <td>1710185.772</td>\n",
       "      <td>664205.1011</td>\n",
       "      <td>-86.87499468</td>\n",
       "      <td>36.15486093</td>\n",
       "      <td>yes</td>\n",
       "    </tr>\n",
       "  </tbody>\n",
       "</table>\n",
       "</div>"
      ],
      "text/plain": [
       "  request_num date_opened                               request  \\\n",
       "0       25270   11/1/2017                      Trash - Backdoor   \n",
       "1       25274   11/1/2017  Trash - Curbside/Alley Missed Pickup   \n",
       "2       25276   11/1/2017  Trash - Curbside/Alley Missed Pickup   \n",
       "3       25307   11/1/2017  Trash - Curbside/Alley Missed Pickup   \n",
       "4       25312   11/1/2017  Trash - Curbside/Alley Missed Pickup   \n",
       "\n",
       "                                                desc                address  \\\n",
       "0  house with the wheel chair ramp, they share dr...         3817 Crouch Dr   \n",
       "1                           Curb/Trash miss Tuesday.  4028 Clarksville Pike   \n",
       "2                           Curb/trash miss Tuesday.    6528 Thunderbird Dr   \n",
       "3                                             missed   2603 old matthews rd   \n",
       "4                  Missed the even side of the road.          604 croley dr   \n",
       "\n",
       "     zip      truck route cdistrict          spx          spy           lon  \\\n",
       "0  37207  RED RIVER  3205         2  1727970.412  686779.4781  -86.81539226   \n",
       "1  37218  RED RIVER  4202         1  1721259.366  685444.7996  -86.83810278   \n",
       "2  37209  RED RIVER  4205        20  1707026.753  659887.4716   -86.8855624   \n",
       "3  37207  WASTE IND  2206         2  1735691.771  685027.2459   -86.7891702   \n",
       "4  37209  RED RIVER  4203        20  1710185.772  664205.1011  -86.87499468   \n",
       "\n",
       "           lat miss  \n",
       "0  36.21729166   no  \n",
       "1  36.21346977  yes  \n",
       "2  36.14292283  yes  \n",
       "3  36.21265241  yes  \n",
       "4  36.15486093  yes  "
      ]
     },
     "execution_count": 8,
     "metadata": {},
     "output_type": "execute_result"
    }
   ],
   "source": [
    "tp.head()"
   ]
  },
  {
   "cell_type": "markdown",
   "id": "d6ef6fe5-2197-4e9d-bcd2-b17b64bd0b61",
   "metadata": {},
   "source": [
    "Checking count of what rows contain substring \"Miss\" in request column (denoted by a 'yes' or 'no' in 'miss' column)"
   ]
  },
  {
   "cell_type": "code",
   "execution_count": 9,
   "id": "6160926a-b95b-42cc-b8d6-c5a60b3c798b",
   "metadata": {},
   "outputs": [
    {
     "data": {
      "text/plain": [
       "miss\n",
       "yes    15028\n",
       "no      5198\n",
       "Name: count, dtype: int64"
      ]
     },
     "execution_count": 9,
     "metadata": {},
     "output_type": "execute_result"
    }
   ],
   "source": [
    "tp['miss'].value_counts()"
   ]
  },
  {
   "cell_type": "markdown",
   "id": "29d5c08d-c564-486d-996d-159a0d1370e8",
   "metadata": {},
   "source": [
    "Checking what other possible requests there are"
   ]
  },
  {
   "cell_type": "code",
   "execution_count": 10,
   "id": "f0e9fd4e-a5a4-40dd-bf4f-b45e3006d840",
   "metadata": {
    "scrolled": true
   },
   "outputs": [
    {
     "data": {
      "text/html": [
       "<div>\n",
       "<style scoped>\n",
       "    .dataframe tbody tr th:only-of-type {\n",
       "        vertical-align: middle;\n",
       "    }\n",
       "\n",
       "    .dataframe tbody tr th {\n",
       "        vertical-align: top;\n",
       "    }\n",
       "\n",
       "    .dataframe thead th {\n",
       "        text-align: right;\n",
       "    }\n",
       "</style>\n",
       "<table border=\"1\" class=\"dataframe\">\n",
       "  <thead>\n",
       "    <tr style=\"text-align: right;\">\n",
       "      <th></th>\n",
       "      <th>request_num</th>\n",
       "      <th>date_opened</th>\n",
       "      <th>request</th>\n",
       "      <th>desc</th>\n",
       "      <th>address</th>\n",
       "      <th>zip</th>\n",
       "      <th>truck</th>\n",
       "      <th>route</th>\n",
       "      <th>cdistrict</th>\n",
       "      <th>spx</th>\n",
       "      <th>spy</th>\n",
       "      <th>lon</th>\n",
       "      <th>lat</th>\n",
       "      <th>miss</th>\n",
       "    </tr>\n",
       "  </thead>\n",
       "  <tbody>\n",
       "    <tr>\n",
       "      <th>0</th>\n",
       "      <td>25270</td>\n",
       "      <td>11/1/2017</td>\n",
       "      <td>Trash - Backdoor</td>\n",
       "      <td>house with the wheel chair ramp, they share dr...</td>\n",
       "      <td>3817 Crouch Dr</td>\n",
       "      <td>37207</td>\n",
       "      <td>RED RIVER</td>\n",
       "      <td>3205</td>\n",
       "      <td>2</td>\n",
       "      <td>1727970.412</td>\n",
       "      <td>686779.4781</td>\n",
       "      <td>-86.81539226</td>\n",
       "      <td>36.21729166</td>\n",
       "      <td>no</td>\n",
       "    </tr>\n",
       "    <tr>\n",
       "      <th>5</th>\n",
       "      <td>25317</td>\n",
       "      <td>11/1/2017</td>\n",
       "      <td>Trash Collection Complaint</td>\n",
       "      <td>left trash cart in middle of driveway instead ...</td>\n",
       "      <td>3602 floral dr</td>\n",
       "      <td>37211</td>\n",
       "      <td>RED RIVER</td>\n",
       "      <td>4304</td>\n",
       "      <td>16</td>\n",
       "      <td>1751660.164</td>\n",
       "      <td>643215.2011</td>\n",
       "      <td>-86.73397993</td>\n",
       "      <td>36.09813983</td>\n",
       "      <td>no</td>\n",
       "    </tr>\n",
       "    <tr>\n",
       "      <th>6</th>\n",
       "      <td>25325</td>\n",
       "      <td>11/1/2017</td>\n",
       "      <td>Damage to Property</td>\n",
       "      <td>Trash/emptied Wednesday &amp; now metal black-mail...</td>\n",
       "      <td>4721 Chalmers Dr</td>\n",
       "      <td>37215</td>\n",
       "      <td>RED RIVER</td>\n",
       "      <td>3303</td>\n",
       "      <td>34</td>\n",
       "      <td>1726300.965</td>\n",
       "      <td>637078.4022</td>\n",
       "      <td>-86.81964037</td>\n",
       "      <td>36.0807294</td>\n",
       "      <td>no</td>\n",
       "    </tr>\n",
       "    <tr>\n",
       "      <th>7</th>\n",
       "      <td>25327</td>\n",
       "      <td>11/1/2017</td>\n",
       "      <td>Trash Collection Complaint</td>\n",
       "      <td>Trash out on time, miss again Tuesday. ALLEY</td>\n",
       "      <td>1816 Jo Johnston Ave</td>\n",
       "      <td>37203</td>\n",
       "      <td>METRO</td>\n",
       "      <td>9208</td>\n",
       "      <td>21</td>\n",
       "      <td>1731459.367</td>\n",
       "      <td>666013.6012</td>\n",
       "      <td>-86.80298771</td>\n",
       "      <td>36.16032965</td>\n",
       "      <td>no</td>\n",
       "    </tr>\n",
       "    <tr>\n",
       "      <th>11</th>\n",
       "      <td>25350</td>\n",
       "      <td>11/1/2017</td>\n",
       "      <td>Trash Collection Complaint</td>\n",
       "      <td>Missed- 4th week in a row.</td>\n",
       "      <td>3210 Whites Creek Pike</td>\n",
       "      <td>37207</td>\n",
       "      <td>RED RIVER</td>\n",
       "      <td>3201</td>\n",
       "      <td>3</td>\n",
       "      <td>1726432.966</td>\n",
       "      <td>691919.2003</td>\n",
       "      <td>-86.82075005</td>\n",
       "      <td>36.23137438</td>\n",
       "      <td>no</td>\n",
       "    </tr>\n",
       "  </tbody>\n",
       "</table>\n",
       "</div>"
      ],
      "text/plain": [
       "   request_num date_opened                     request  \\\n",
       "0        25270   11/1/2017            Trash - Backdoor   \n",
       "5        25317   11/1/2017  Trash Collection Complaint   \n",
       "6        25325   11/1/2017          Damage to Property   \n",
       "7        25327   11/1/2017  Trash Collection Complaint   \n",
       "11       25350   11/1/2017  Trash Collection Complaint   \n",
       "\n",
       "                                                 desc                 address  \\\n",
       "0   house with the wheel chair ramp, they share dr...          3817 Crouch Dr   \n",
       "5   left trash cart in middle of driveway instead ...          3602 floral dr   \n",
       "6   Trash/emptied Wednesday & now metal black-mail...        4721 Chalmers Dr   \n",
       "7        Trash out on time, miss again Tuesday. ALLEY    1816 Jo Johnston Ave   \n",
       "11                         Missed- 4th week in a row.  3210 Whites Creek Pike   \n",
       "\n",
       "      zip      truck route cdistrict          spx          spy           lon  \\\n",
       "0   37207  RED RIVER  3205         2  1727970.412  686779.4781  -86.81539226   \n",
       "5   37211  RED RIVER  4304        16  1751660.164  643215.2011  -86.73397993   \n",
       "6   37215  RED RIVER  3303        34  1726300.965  637078.4022  -86.81964037   \n",
       "7   37203      METRO  9208        21  1731459.367  666013.6012  -86.80298771   \n",
       "11  37207  RED RIVER  3201         3  1726432.966  691919.2003  -86.82075005   \n",
       "\n",
       "            lat miss  \n",
       "0   36.21729166   no  \n",
       "5   36.09813983   no  \n",
       "6    36.0807294   no  \n",
       "7   36.16032965   no  \n",
       "11  36.23137438   no  "
      ]
     },
     "execution_count": 10,
     "metadata": {},
     "output_type": "execute_result"
    }
   ],
   "source": [
    "tp.loc[tp['miss'].isin(['no'])].head()"
   ]
  },
  {
   "cell_type": "code",
   "execution_count": 11,
   "id": "6a518f69-e755-48d0-a914-2e45292b9720",
   "metadata": {},
   "outputs": [
    {
     "data": {
      "text/plain": [
       "(5198, 14)"
      ]
     },
     "execution_count": 11,
     "metadata": {},
     "output_type": "execute_result"
    }
   ],
   "source": [
    "tp.loc[tp['miss'].isin(['no'])].shape"
   ]
  },
  {
   "cell_type": "markdown",
   "id": "d11be6e5-905d-4f1e-826e-a049dc1d9807",
   "metadata": {},
   "source": [
    "I am not to include rows that don't denote a missed pickup in the request column but include information about a missed pickup or multiple missed pickups in the description."
   ]
  },
  {
   "cell_type": "markdown",
   "id": "5329f720-1927-425e-8dc5-81688dceb405",
   "metadata": {},
   "source": [
    "Creating a new dataframe only including rows where requests specify a missed pickup."
   ]
  },
  {
   "cell_type": "code",
   "execution_count": 12,
   "id": "90564d1a-2c70-4a60-9bbf-8f0579b4c94f",
   "metadata": {},
   "outputs": [
    {
     "data": {
      "text/plain": [
       "array(['Trash - Backdoor', 'Trash - Curbside/Alley Missed Pickup',\n",
       "       'Trash Collection Complaint', 'Damage to Property'], dtype=object)"
      ]
     },
     "execution_count": 12,
     "metadata": {},
     "output_type": "execute_result"
    }
   ],
   "source": [
    "tp['request'].unique()"
   ]
  },
  {
   "cell_type": "code",
   "execution_count": 13,
   "id": "b7add781-a5c9-496e-a08b-ecfa715b4071",
   "metadata": {},
   "outputs": [
    {
     "data": {
      "text/html": [
       "<div>\n",
       "<style scoped>\n",
       "    .dataframe tbody tr th:only-of-type {\n",
       "        vertical-align: middle;\n",
       "    }\n",
       "\n",
       "    .dataframe tbody tr th {\n",
       "        vertical-align: top;\n",
       "    }\n",
       "\n",
       "    .dataframe thead th {\n",
       "        text-align: right;\n",
       "    }\n",
       "</style>\n",
       "<table border=\"1\" class=\"dataframe\">\n",
       "  <thead>\n",
       "    <tr style=\"text-align: right;\">\n",
       "      <th></th>\n",
       "      <th>request_num</th>\n",
       "      <th>date_opened</th>\n",
       "      <th>request</th>\n",
       "      <th>desc</th>\n",
       "      <th>address</th>\n",
       "      <th>zip</th>\n",
       "      <th>truck</th>\n",
       "      <th>route</th>\n",
       "      <th>cdistrict</th>\n",
       "      <th>spx</th>\n",
       "      <th>spy</th>\n",
       "      <th>lon</th>\n",
       "      <th>lat</th>\n",
       "      <th>miss</th>\n",
       "    </tr>\n",
       "  </thead>\n",
       "  <tbody>\n",
       "    <tr>\n",
       "      <th>1</th>\n",
       "      <td>25274</td>\n",
       "      <td>11/1/2017</td>\n",
       "      <td>Trash - Curbside/Alley Missed Pickup</td>\n",
       "      <td>Curb/Trash miss Tuesday.</td>\n",
       "      <td>4028 Clarksville Pike</td>\n",
       "      <td>37218</td>\n",
       "      <td>RED RIVER</td>\n",
       "      <td>4202</td>\n",
       "      <td>1</td>\n",
       "      <td>1721259.366</td>\n",
       "      <td>685444.7996</td>\n",
       "      <td>-86.83810278</td>\n",
       "      <td>36.21346977</td>\n",
       "      <td>yes</td>\n",
       "    </tr>\n",
       "    <tr>\n",
       "      <th>2</th>\n",
       "      <td>25276</td>\n",
       "      <td>11/1/2017</td>\n",
       "      <td>Trash - Curbside/Alley Missed Pickup</td>\n",
       "      <td>Curb/trash miss Tuesday.</td>\n",
       "      <td>6528 Thunderbird Dr</td>\n",
       "      <td>37209</td>\n",
       "      <td>RED RIVER</td>\n",
       "      <td>4205</td>\n",
       "      <td>20</td>\n",
       "      <td>1707026.753</td>\n",
       "      <td>659887.4716</td>\n",
       "      <td>-86.8855624</td>\n",
       "      <td>36.14292283</td>\n",
       "      <td>yes</td>\n",
       "    </tr>\n",
       "    <tr>\n",
       "      <th>3</th>\n",
       "      <td>25307</td>\n",
       "      <td>11/1/2017</td>\n",
       "      <td>Trash - Curbside/Alley Missed Pickup</td>\n",
       "      <td>missed</td>\n",
       "      <td>2603 old matthews rd</td>\n",
       "      <td>37207</td>\n",
       "      <td>WASTE IND</td>\n",
       "      <td>2206</td>\n",
       "      <td>2</td>\n",
       "      <td>1735691.771</td>\n",
       "      <td>685027.2459</td>\n",
       "      <td>-86.7891702</td>\n",
       "      <td>36.21265241</td>\n",
       "      <td>yes</td>\n",
       "    </tr>\n",
       "    <tr>\n",
       "      <th>4</th>\n",
       "      <td>25312</td>\n",
       "      <td>11/1/2017</td>\n",
       "      <td>Trash - Curbside/Alley Missed Pickup</td>\n",
       "      <td>Missed the even side of the road.</td>\n",
       "      <td>604 croley dr</td>\n",
       "      <td>37209</td>\n",
       "      <td>RED RIVER</td>\n",
       "      <td>4203</td>\n",
       "      <td>20</td>\n",
       "      <td>1710185.772</td>\n",
       "      <td>664205.1011</td>\n",
       "      <td>-86.87499468</td>\n",
       "      <td>36.15486093</td>\n",
       "      <td>yes</td>\n",
       "    </tr>\n",
       "    <tr>\n",
       "      <th>8</th>\n",
       "      <td>25330</td>\n",
       "      <td>11/1/2017</td>\n",
       "      <td>Trash - Curbside/Alley Missed Pickup</td>\n",
       "      <td>Missed.</td>\n",
       "      <td>4484 Lavergne Couchville Pike</td>\n",
       "      <td>37013</td>\n",
       "      <td>RED RIVER</td>\n",
       "      <td>4210</td>\n",
       "      <td>33</td>\n",
       "      <td>1794533.514</td>\n",
       "      <td>618749.3427</td>\n",
       "      <td>-86.58836424</td>\n",
       "      <td>36.03172793</td>\n",
       "      <td>yes</td>\n",
       "    </tr>\n",
       "  </tbody>\n",
       "</table>\n",
       "</div>"
      ],
      "text/plain": [
       "  request_num date_opened                               request  \\\n",
       "1       25274   11/1/2017  Trash - Curbside/Alley Missed Pickup   \n",
       "2       25276   11/1/2017  Trash - Curbside/Alley Missed Pickup   \n",
       "3       25307   11/1/2017  Trash - Curbside/Alley Missed Pickup   \n",
       "4       25312   11/1/2017  Trash - Curbside/Alley Missed Pickup   \n",
       "8       25330   11/1/2017  Trash - Curbside/Alley Missed Pickup   \n",
       "\n",
       "                                desc                        address    zip  \\\n",
       "1           Curb/Trash miss Tuesday.          4028 Clarksville Pike  37218   \n",
       "2           Curb/trash miss Tuesday.            6528 Thunderbird Dr  37209   \n",
       "3                             missed           2603 old matthews rd  37207   \n",
       "4  Missed the even side of the road.                  604 croley dr  37209   \n",
       "8                            Missed.  4484 Lavergne Couchville Pike  37013   \n",
       "\n",
       "       truck route cdistrict          spx          spy           lon  \\\n",
       "1  RED RIVER  4202         1  1721259.366  685444.7996  -86.83810278   \n",
       "2  RED RIVER  4205        20  1707026.753  659887.4716   -86.8855624   \n",
       "3  WASTE IND  2206         2  1735691.771  685027.2459   -86.7891702   \n",
       "4  RED RIVER  4203        20  1710185.772  664205.1011  -86.87499468   \n",
       "8  RED RIVER  4210        33  1794533.514  618749.3427  -86.58836424   \n",
       "\n",
       "           lat miss  \n",
       "1  36.21346977  yes  \n",
       "2  36.14292283  yes  \n",
       "3  36.21265241  yes  \n",
       "4  36.15486093  yes  \n",
       "8  36.03172793  yes  "
      ]
     },
     "execution_count": 13,
     "metadata": {},
     "output_type": "execute_result"
    }
   ],
   "source": [
    "missed_pickups = tp.loc[tp['request'].str.contains('Trash - Curbside/Alley Missed Pickup')]\n",
    "missed_pickups.head()"
   ]
  },
  {
   "cell_type": "code",
   "execution_count": 14,
   "id": "529d1eda-fbb0-4988-b9c2-69a0dec29cfb",
   "metadata": {},
   "outputs": [],
   "source": [
    "missed_pickups = missed_pickups.loc[missed_pickups['truck'] == 'RED RIVER']"
   ]
  },
  {
   "cell_type": "markdown",
   "id": "99338435-1d47-4710-aadc-5aa20dee0d77",
   "metadata": {},
   "source": [
    "Now I'm going to try and find which addresses appear multiple times in the missed pickups dataframe."
   ]
  },
  {
   "cell_type": "code",
   "execution_count": 15,
   "id": "477c1419-5e2d-4676-891a-acfb20de5cdb",
   "metadata": {},
   "outputs": [
    {
     "data": {
      "text/plain": [
       "8191"
      ]
     },
     "execution_count": 15,
     "metadata": {},
     "output_type": "execute_result"
    }
   ],
   "source": [
    "missed_pickups['address'].nunique()"
   ]
  },
  {
   "cell_type": "code",
   "execution_count": 16,
   "id": "7ef0f8b0-e3c2-4952-a32d-3785b958bc22",
   "metadata": {},
   "outputs": [
    {
     "data": {
      "text/plain": [
       "address\n",
       "12546 Old Hickory Blvd, Nashville, TN 37013, United States    19\n",
       "5135 Hickory Hollow Pkwy                                      16\n",
       "802 Crescent Rd, Nashville, TN 37205, United States           16\n",
       "607 Estes Rd, Nashville, TN 37215, United States              15\n",
       "6007 Obrien Ave, Nashville, TN 37209, United States           14\n",
       "                                                              ..\n",
       "1968 Wild Oaks Ct, Nashville, TN 37013, United States          1\n",
       "1070 Rural Hill Rd, Nashville, TN 37013, United States         1\n",
       "100 Graeme Dr, Nashville, TN 37214, United States              1\n",
       "2917 Leatherwood Dr, Nashville, TN 37214, United States        1\n",
       "604 Somerset Ct, Nashville, TN 37217, United States            1\n",
       "Name: count, Length: 8191, dtype: int64"
      ]
     },
     "execution_count": 16,
     "metadata": {},
     "output_type": "execute_result"
    }
   ],
   "source": [
    "missed_pickups['address'].value_counts()"
   ]
  },
  {
   "cell_type": "code",
   "execution_count": 17,
   "id": "4be42fca-d439-4c3d-8fb1-5dae2763c2ed",
   "metadata": {},
   "outputs": [
    {
     "data": {
      "text/plain": [
       "address\n",
       "12546 Old Hickory Blvd, Nashville, TN 37013, United States    19\n",
       "5135 Hickory Hollow Pkwy                                      16\n",
       "802 Crescent Rd, Nashville, TN 37205, United States           16\n",
       "607 Estes Rd, Nashville, TN 37215, United States              15\n",
       "6007 Obrien Ave, Nashville, TN 37209, United States           14\n",
       "Name: count, dtype: int64"
      ]
     },
     "execution_count": 17,
     "metadata": {},
     "output_type": "execute_result"
    }
   ],
   "source": [
    "fines = missed_pickups['address'].value_counts()\n",
    "fines.head()"
   ]
  },
  {
   "cell_type": "code",
   "execution_count": 18,
   "id": "a50fbd6d-4e77-42bd-8a37-c2de88503100",
   "metadata": {},
   "outputs": [],
   "source": [
    "fines = fines.reset_index()"
   ]
  },
  {
   "cell_type": "code",
   "execution_count": 19,
   "id": "a2d16927-3c93-41d3-8e9c-3332b8bdd9e4",
   "metadata": {},
   "outputs": [
    {
     "data": {
      "text/html": [
       "<div>\n",
       "<style scoped>\n",
       "    .dataframe tbody tr th:only-of-type {\n",
       "        vertical-align: middle;\n",
       "    }\n",
       "\n",
       "    .dataframe tbody tr th {\n",
       "        vertical-align: top;\n",
       "    }\n",
       "\n",
       "    .dataframe thead th {\n",
       "        text-align: right;\n",
       "    }\n",
       "</style>\n",
       "<table border=\"1\" class=\"dataframe\">\n",
       "  <thead>\n",
       "    <tr style=\"text-align: right;\">\n",
       "      <th></th>\n",
       "      <th>address</th>\n",
       "      <th>count</th>\n",
       "    </tr>\n",
       "  </thead>\n",
       "  <tbody>\n",
       "    <tr>\n",
       "      <th>0</th>\n",
       "      <td>12546 Old Hickory Blvd, Nashville, TN 37013, U...</td>\n",
       "      <td>19</td>\n",
       "    </tr>\n",
       "    <tr>\n",
       "      <th>1</th>\n",
       "      <td>5135 Hickory Hollow Pkwy</td>\n",
       "      <td>16</td>\n",
       "    </tr>\n",
       "    <tr>\n",
       "      <th>2</th>\n",
       "      <td>802 Crescent Rd, Nashville, TN 37205, United S...</td>\n",
       "      <td>16</td>\n",
       "    </tr>\n",
       "    <tr>\n",
       "      <th>3</th>\n",
       "      <td>607 Estes Rd, Nashville, TN 37215, United States</td>\n",
       "      <td>15</td>\n",
       "    </tr>\n",
       "    <tr>\n",
       "      <th>4</th>\n",
       "      <td>6007 Obrien Ave, Nashville, TN 37209, United S...</td>\n",
       "      <td>14</td>\n",
       "    </tr>\n",
       "    <tr>\n",
       "      <th>...</th>\n",
       "      <td>...</td>\n",
       "      <td>...</td>\n",
       "    </tr>\n",
       "    <tr>\n",
       "      <th>1546</th>\n",
       "      <td>3508 Melva Dr, Nashville, TN 37211, United States</td>\n",
       "      <td>2</td>\n",
       "    </tr>\n",
       "    <tr>\n",
       "      <th>1547</th>\n",
       "      <td>3570 GONDOLA DR</td>\n",
       "      <td>2</td>\n",
       "    </tr>\n",
       "    <tr>\n",
       "      <th>1548</th>\n",
       "      <td>3209 Jonesboro Dr, Nashville, TN 37214, United...</td>\n",
       "      <td>2</td>\n",
       "    </tr>\n",
       "    <tr>\n",
       "      <th>1549</th>\n",
       "      <td>4256 moss rd</td>\n",
       "      <td>2</td>\n",
       "    </tr>\n",
       "    <tr>\n",
       "      <th>1550</th>\n",
       "      <td>2428 EASTLAND AVE, 37206</td>\n",
       "      <td>2</td>\n",
       "    </tr>\n",
       "  </tbody>\n",
       "</table>\n",
       "<p>1551 rows × 2 columns</p>\n",
       "</div>"
      ],
      "text/plain": [
       "                                                address  count\n",
       "0     12546 Old Hickory Blvd, Nashville, TN 37013, U...     19\n",
       "1                              5135 Hickory Hollow Pkwy     16\n",
       "2     802 Crescent Rd, Nashville, TN 37205, United S...     16\n",
       "3      607 Estes Rd, Nashville, TN 37215, United States     15\n",
       "4     6007 Obrien Ave, Nashville, TN 37209, United S...     14\n",
       "...                                                 ...    ...\n",
       "1546  3508 Melva Dr, Nashville, TN 37211, United States      2\n",
       "1547                                    3570 GONDOLA DR      2\n",
       "1548  3209 Jonesboro Dr, Nashville, TN 37214, United...      2\n",
       "1549                                       4256 moss rd      2\n",
       "1550                           2428 EASTLAND AVE, 37206      2\n",
       "\n",
       "[1551 rows x 2 columns]"
      ]
     },
     "execution_count": 19,
     "metadata": {},
     "output_type": "execute_result"
    }
   ],
   "source": [
    "fines.loc[fines['count'] > 1]"
   ]
  },
  {
   "cell_type": "markdown",
   "id": "bcfbe67e-72d5-4ab4-8863-93bcfaaaf583",
   "metadata": {},
   "source": [
    "For loop to calculate fines VVV"
   ]
  },
  {
   "cell_type": "code",
   "execution_count": 20,
   "id": "86dd4a49-31fc-4ce0-b2d6-ab786979b716",
   "metadata": {},
   "outputs": [],
   "source": [
    "total_fines=0\n",
    "for row_index, row_values in fines.iterrows():\n",
    "    if row_values['count'] > 1:\n",
    "        fine = (row_values['count']-1)*200\n",
    "        total_fines = total_fines + fine"
   ]
  },
  {
   "cell_type": "code",
   "execution_count": 21,
   "id": "e3574025-2014-47ff-a8cf-89ed8f11b533",
   "metadata": {},
   "outputs": [
    {
     "name": "stdout",
     "output_type": "stream",
     "text": [
      "504800\n"
     ]
    }
   ],
   "source": [
    "print(total_fines)"
   ]
  },
  {
   "cell_type": "markdown",
   "id": "65d7bf34-db79-47cb-94bf-eace337c377d",
   "metadata": {},
   "source": [
    "## Total Fines: $504,800"
   ]
  },
  {
   "cell_type": "markdown",
   "id": "4c86f2eb-8d1d-4738-badb-42b29e8ecdb9",
   "metadata": {},
   "source": [
    "double checking....."
   ]
  },
  {
   "cell_type": "code",
   "execution_count": 22,
   "id": "47bda7ab-e65c-4d18-9665-e614a6a5832f",
   "metadata": {},
   "outputs": [],
   "source": [
    "total_missed = fines['count'].sum()"
   ]
  },
  {
   "cell_type": "code",
   "execution_count": 23,
   "id": "e2eb84c9-5d72-4d2f-a919-8cef52c612c9",
   "metadata": {},
   "outputs": [],
   "source": [
    "total_houses_missed = fines['address'].count()"
   ]
  },
  {
   "cell_type": "code",
   "execution_count": 24,
   "id": "8ef8fc1f-c7b2-4298-bf5a-a7cb88b30f1c",
   "metadata": {},
   "outputs": [],
   "source": [
    "total_houses_missed_over1 = 0\n",
    "for row_index, row_values in fines.iterrows():\n",
    "    if row_values['count'] > 1:\n",
    "        total_houses_missed_over1 = total_houses_missed_over1 + 1"
   ]
  },
  {
   "cell_type": "code",
   "execution_count": 25,
   "id": "814e816d-941c-4bbb-9a5d-617772487363",
   "metadata": {},
   "outputs": [
    {
     "data": {
      "text/plain": [
       "1551"
      ]
     },
     "execution_count": 25,
     "metadata": {},
     "output_type": "execute_result"
    }
   ],
   "source": [
    "total_houses_missed_over1"
   ]
  },
  {
   "cell_type": "code",
   "execution_count": 26,
   "id": "1b979d2d-20af-49ac-a99c-c398470637a8",
   "metadata": {},
   "outputs": [
    {
     "data": {
      "text/plain": [
       "8191"
      ]
     },
     "execution_count": 26,
     "metadata": {},
     "output_type": "execute_result"
    }
   ],
   "source": [
    "total_houses_missed"
   ]
  },
  {
   "cell_type": "code",
   "execution_count": 27,
   "id": "9bbe07eb-847a-4d07-9a28-c4b7d335715e",
   "metadata": {},
   "outputs": [
    {
     "data": {
      "text/plain": [
       "0.18935416921010867"
      ]
     },
     "execution_count": 27,
     "metadata": {},
     "output_type": "execute_result"
    }
   ],
   "source": [
    "total_houses_missed_over1/total_houses_missed"
   ]
  },
  {
   "cell_type": "code",
   "execution_count": 28,
   "id": "a926573e-7672-48d8-98bf-eb7bbc152020",
   "metadata": {},
   "outputs": [
    {
     "data": {
      "text/plain": [
       "0.23555762949136724"
      ]
     },
     "execution_count": 28,
     "metadata": {},
     "output_type": "execute_result"
    }
   ],
   "source": [
    "total_fines/(total_missed*200)"
   ]
  },
  {
   "cell_type": "markdown",
   "id": "73586693-113b-485c-819c-4797f1ca96d3",
   "metadata": {},
   "source": [
    "struggling...... :("
   ]
  },
  {
   "cell_type": "markdown",
   "id": "9e6c3604-86fe-48df-8487-3d41ce4d3bd5",
   "metadata": {},
   "source": [
    "## Extra stuff, geospatial...."
   ]
  },
  {
   "cell_type": "markdown",
   "id": "95f551e7-3ad3-4807-976f-55b5dc962d22",
   "metadata": {},
   "source": [
    "Are there any geospatial analysis you can do?  Which visualizations can you create?"
   ]
  },
  {
   "cell_type": "code",
   "execution_count": 29,
   "id": "a952c67e-0905-4ea3-a6a9-1ea979fe7aed",
   "metadata": {},
   "outputs": [
    {
     "data": {
      "text/html": [
       "<div>\n",
       "<style scoped>\n",
       "    .dataframe tbody tr th:only-of-type {\n",
       "        vertical-align: middle;\n",
       "    }\n",
       "\n",
       "    .dataframe tbody tr th {\n",
       "        vertical-align: top;\n",
       "    }\n",
       "\n",
       "    .dataframe thead th {\n",
       "        text-align: right;\n",
       "    }\n",
       "</style>\n",
       "<table border=\"1\" class=\"dataframe\">\n",
       "  <thead>\n",
       "    <tr style=\"text-align: right;\">\n",
       "      <th></th>\n",
       "      <th>request_num</th>\n",
       "      <th>date_opened</th>\n",
       "      <th>request</th>\n",
       "      <th>desc</th>\n",
       "      <th>address</th>\n",
       "      <th>zip</th>\n",
       "      <th>truck</th>\n",
       "      <th>route</th>\n",
       "      <th>cdistrict</th>\n",
       "      <th>spx</th>\n",
       "      <th>spy</th>\n",
       "      <th>lon</th>\n",
       "      <th>lat</th>\n",
       "      <th>miss</th>\n",
       "    </tr>\n",
       "  </thead>\n",
       "  <tbody>\n",
       "    <tr>\n",
       "      <th>0</th>\n",
       "      <td>25270</td>\n",
       "      <td>11/1/2017</td>\n",
       "      <td>Trash - Backdoor</td>\n",
       "      <td>house with the wheel chair ramp, they share dr...</td>\n",
       "      <td>3817 Crouch Dr</td>\n",
       "      <td>37207</td>\n",
       "      <td>RED RIVER</td>\n",
       "      <td>3205</td>\n",
       "      <td>2</td>\n",
       "      <td>1727970.412</td>\n",
       "      <td>686779.4781</td>\n",
       "      <td>-86.81539226</td>\n",
       "      <td>36.21729166</td>\n",
       "      <td>no</td>\n",
       "    </tr>\n",
       "  </tbody>\n",
       "</table>\n",
       "</div>"
      ],
      "text/plain": [
       "  request_num date_opened           request  \\\n",
       "0       25270   11/1/2017  Trash - Backdoor   \n",
       "\n",
       "                                                desc         address    zip  \\\n",
       "0  house with the wheel chair ramp, they share dr...  3817 Crouch Dr  37207   \n",
       "\n",
       "       truck route cdistrict          spx          spy           lon  \\\n",
       "0  RED RIVER  3205         2  1727970.412  686779.4781  -86.81539226   \n",
       "\n",
       "           lat miss  \n",
       "0  36.21729166   no  "
      ]
     },
     "execution_count": 29,
     "metadata": {},
     "output_type": "execute_result"
    }
   ],
   "source": [
    "tp.head(1)"
   ]
  },
  {
   "cell_type": "code",
   "execution_count": null,
   "id": "ee4237c6-b383-4984-969d-bc92367aee34",
   "metadata": {},
   "outputs": [],
   "source": []
  },
  {
   "cell_type": "code",
   "execution_count": 30,
   "id": "17eae36c-4fb2-4a85-b3d9-4446b79c1fd2",
   "metadata": {},
   "outputs": [
    {
     "data": {
      "text/plain": [
       "array(['RED RIVER', 'WASTE IND', 'METRO', '', 'Metro'], dtype=object)"
      ]
     },
     "execution_count": 30,
     "metadata": {},
     "output_type": "execute_result"
    }
   ],
   "source": [
    "tp.truck.unique()"
   ]
  },
  {
   "cell_type": "code",
   "execution_count": 31,
   "id": "8a9f0242-88e7-4e98-804b-615122b56451",
   "metadata": {},
   "outputs": [
    {
     "data": {
      "text/plain": [
       "array(['Trash - Backdoor', 'Trash - Curbside/Alley Missed Pickup',\n",
       "       'Trash Collection Complaint', 'Damage to Property'], dtype=object)"
      ]
     },
     "execution_count": 31,
     "metadata": {},
     "output_type": "execute_result"
    }
   ],
   "source": [
    "tp.request.unique()"
   ]
  },
  {
   "cell_type": "code",
   "execution_count": 32,
   "id": "348a8fbc-7540-41e6-9fe3-5f610287e496",
   "metadata": {},
   "outputs": [],
   "source": [
    "tp['lat'] = pd.to_numeric(tp['lat'])\n",
    "tp['lon'] = pd.to_numeric(tp['lon'])"
   ]
  },
  {
   "cell_type": "code",
   "execution_count": null,
   "id": "a4ef58cf-b1b2-49f3-8f82-147a3e8d9c97",
   "metadata": {},
   "outputs": [],
   "source": []
  },
  {
   "cell_type": "code",
   "execution_count": 33,
   "id": "5156d774-74d2-4bf0-b1a7-33be52b86dbf",
   "metadata": {},
   "outputs": [],
   "source": [
    "m = folium.Map(location=[36.174465, -86.767960], zoom_start=10)"
   ]
  },
  {
   "cell_type": "code",
   "execution_count": 40,
   "id": "9928978b-2ebb-48ff-a001-6021f99255cc",
   "metadata": {},
   "outputs": [
    {
     "ename": "TemplateSyntaxError",
     "evalue": "Missing end of comment tag",
     "output_type": "error",
     "traceback": [
      "\u001b[1;31m---------------------------------------------------------------------------\u001b[0m",
      "\u001b[1;31mTemplateSyntaxError\u001b[0m                       Traceback (most recent call last)",
      "Cell \u001b[1;32mIn[40], line 31\u001b[0m\n\u001b[0;32m     23\u001b[0m icon\u001b[38;5;241m=\u001b[39mfolium\u001b[38;5;241m.\u001b[39mIcon(color\u001b[38;5;241m=\u001b[39mmarkercolor,icon\u001b[38;5;241m=\u001b[39m\u001b[38;5;124m\"\u001b[39m\u001b[38;5;124mhouse\u001b[39m\u001b[38;5;124m\"\u001b[39m, prefix\u001b[38;5;241m=\u001b[39m\u001b[38;5;124m'\u001b[39m\u001b[38;5;124mfa\u001b[39m\u001b[38;5;124m'\u001b[39m)\n\u001b[0;32m     25\u001b[0m html \u001b[38;5;241m=\u001b[39m \u001b[38;5;124m\"\"\"\u001b[39m\u001b[38;5;124m<h3>\u001b[39m\u001b[38;5;124m\"\"\"\u001b[39m\u001b[38;5;241m+\u001b[39maddress\u001b[38;5;241m+\u001b[39m\u001b[38;5;124m\"\"\"\u001b[39m\u001b[38;5;124m</h3><br>\u001b[39m\n\u001b[0;32m     26\u001b[0m \u001b[38;5;124m<p> Opened: \u001b[39m\u001b[38;5;124m\"\"\"\u001b[39m\u001b[38;5;241m+\u001b[39mdate\u001b[38;5;241m+\u001b[39m\u001b[38;5;124m\"\"\"\u001b[39m\u001b[38;5;124m<br><br>\u001b[39m\n\u001b[0;32m     27\u001b[0m \u001b[38;5;124mContractor: \u001b[39m\u001b[38;5;124m\"\"\"\u001b[39m\u001b[38;5;241m+\u001b[39mcomp\u001b[38;5;241m+\u001b[39m\u001b[38;5;124m\"\"\"\u001b[39m\u001b[38;5;124m<br><br>\u001b[39m\n\u001b[0;32m     28\u001b[0m \u001b[38;5;124mRequest:\u001b[39m\u001b[38;5;124m\"\"\"\u001b[39m\u001b[38;5;241m+\u001b[39mreq\u001b[38;5;241m+\u001b[39m\u001b[38;5;124m\"\"\"\u001b[39m\u001b[38;5;124m<br>\u001b[39m\n\u001b[0;32m     29\u001b[0m \u001b[38;5;124mDescription: \u001b[39m\u001b[38;5;124m\"\"\"\u001b[39m\u001b[38;5;241m+\u001b[39mdescription\u001b[38;5;241m+\u001b[39m\u001b[38;5;124m\"\"\"\u001b[39m\u001b[38;5;124m<br></p>\u001b[39m\u001b[38;5;124m\"\"\"\u001b[39m\n\u001b[1;32m---> 31\u001b[0m iframe \u001b[38;5;241m=\u001b[39m \u001b[43mbranca\u001b[49m\u001b[38;5;241;43m.\u001b[39;49m\u001b[43melement\u001b[49m\u001b[38;5;241;43m.\u001b[39;49m\u001b[43mIFrame\u001b[49m\u001b[43m(\u001b[49m\u001b[43mhtml\u001b[49m\u001b[43m,\u001b[49m\u001b[43m \u001b[49m\u001b[43mwidth\u001b[49m\u001b[38;5;241;43m=\u001b[39;49m\u001b[38;5;241;43m250\u001b[39;49m\u001b[43m,\u001b[49m\u001b[43m \u001b[49m\u001b[43mheight\u001b[49m\u001b[38;5;241;43m=\u001b[39;49m\u001b[38;5;241;43m200\u001b[39;49m\u001b[43m)\u001b[49m\n\u001b[0;32m     32\u001b[0m popup \u001b[38;5;241m=\u001b[39m folium\u001b[38;5;241m.\u001b[39mPopup(iframe, max_width\u001b[38;5;241m=\u001b[39m\u001b[38;5;241m500\u001b[39m)\n\u001b[0;32m     34\u001b[0m marker \u001b[38;5;241m=\u001b[39m folium\u001b[38;5;241m.\u001b[39mMarker(\n\u001b[0;32m     35\u001b[0m     location \u001b[38;5;241m=\u001b[39m loc, \n\u001b[0;32m     36\u001b[0m     popup \u001b[38;5;241m=\u001b[39m popup, \n\u001b[0;32m     37\u001b[0m     icon \u001b[38;5;241m=\u001b[39m icon) \n",
      "File \u001b[1;32m~\\anaconda3\\envs\\geospatial\\lib\\site-packages\\branca\\element.py:660\u001b[0m, in \u001b[0;36mIFrame.__init__\u001b[1;34m(self, html, width, height, ratio, figsize)\u001b[0m\n\u001b[0;32m    657\u001b[0m     \u001b[38;5;28mself\u001b[39m\u001b[38;5;241m.\u001b[39mheight \u001b[38;5;241m=\u001b[39m \u001b[38;5;28mstr\u001b[39m(\u001b[38;5;241m60\u001b[39m \u001b[38;5;241m*\u001b[39m figsize[\u001b[38;5;241m1\u001b[39m]) \u001b[38;5;241m+\u001b[39m \u001b[38;5;124m\"\u001b[39m\u001b[38;5;124mpx\u001b[39m\u001b[38;5;124m\"\u001b[39m\n\u001b[0;32m    659\u001b[0m \u001b[38;5;28;01mif\u001b[39;00m \u001b[38;5;28misinstance\u001b[39m(html, \u001b[38;5;28mstr\u001b[39m):\n\u001b[1;32m--> 660\u001b[0m     \u001b[38;5;28mself\u001b[39m\u001b[38;5;241m.\u001b[39madd_child(\u001b[43mElement\u001b[49m\u001b[43m(\u001b[49m\u001b[43mhtml\u001b[49m\u001b[43m)\u001b[49m)\n\u001b[0;32m    661\u001b[0m \u001b[38;5;28;01melif\u001b[39;00m html \u001b[38;5;129;01mis\u001b[39;00m \u001b[38;5;129;01mnot\u001b[39;00m \u001b[38;5;28;01mNone\u001b[39;00m:\n\u001b[0;32m    662\u001b[0m     \u001b[38;5;28mself\u001b[39m\u001b[38;5;241m.\u001b[39madd_child(html)\n",
      "File \u001b[1;32m~\\anaconda3\\envs\\geospatial\\lib\\site-packages\\branca\\element.py:68\u001b[0m, in \u001b[0;36mElement.__init__\u001b[1;34m(self, template, template_name)\u001b[0m\n\u001b[0;32m     65\u001b[0m \u001b[38;5;28mself\u001b[39m\u001b[38;5;241m.\u001b[39m_template_name: Optional[\u001b[38;5;28mstr\u001b[39m] \u001b[38;5;241m=\u001b[39m template_name\n\u001b[0;32m     67\u001b[0m \u001b[38;5;28;01mif\u001b[39;00m template \u001b[38;5;129;01mis\u001b[39;00m \u001b[38;5;129;01mnot\u001b[39;00m \u001b[38;5;28;01mNone\u001b[39;00m:\n\u001b[1;32m---> 68\u001b[0m     \u001b[38;5;28mself\u001b[39m\u001b[38;5;241m.\u001b[39m_template \u001b[38;5;241m=\u001b[39m \u001b[43mTemplate\u001b[49m\u001b[43m(\u001b[49m\u001b[43mtemplate\u001b[49m\u001b[43m)\u001b[49m\n\u001b[0;32m     69\u001b[0m \u001b[38;5;28;01melif\u001b[39;00m template_name \u001b[38;5;129;01mis\u001b[39;00m \u001b[38;5;129;01mnot\u001b[39;00m \u001b[38;5;28;01mNone\u001b[39;00m:\n\u001b[0;32m     70\u001b[0m     \u001b[38;5;28mself\u001b[39m\u001b[38;5;241m.\u001b[39m_template \u001b[38;5;241m=\u001b[39m ENV\u001b[38;5;241m.\u001b[39mget_template(template_name)\n",
      "File \u001b[1;32m~\\anaconda3\\envs\\geospatial\\lib\\site-packages\\jinja2\\environment.py:1214\u001b[0m, in \u001b[0;36mTemplate.__new__\u001b[1;34m(cls, source, block_start_string, block_end_string, variable_start_string, variable_end_string, comment_start_string, comment_end_string, line_statement_prefix, line_comment_prefix, trim_blocks, lstrip_blocks, newline_sequence, keep_trailing_newline, extensions, optimized, undefined, finalize, autoescape, enable_async)\u001b[0m\n\u001b[0;32m   1167\u001b[0m \u001b[38;5;28;01mdef\u001b[39;00m\u001b[38;5;250m \u001b[39m\u001b[38;5;21m__new__\u001b[39m(\n\u001b[0;32m   1168\u001b[0m     \u001b[38;5;28mcls\u001b[39m,\n\u001b[0;32m   1169\u001b[0m     source: t\u001b[38;5;241m.\u001b[39mUnion[\u001b[38;5;28mstr\u001b[39m, nodes\u001b[38;5;241m.\u001b[39mTemplate],\n\u001b[1;32m   (...)\u001b[0m\n\u001b[0;32m   1187\u001b[0m     enable_async: \u001b[38;5;28mbool\u001b[39m \u001b[38;5;241m=\u001b[39m \u001b[38;5;28;01mFalse\u001b[39;00m,\n\u001b[0;32m   1188\u001b[0m ) \u001b[38;5;241m-\u001b[39m\u001b[38;5;241m>\u001b[39m t\u001b[38;5;241m.\u001b[39mAny:  \u001b[38;5;66;03m# it returns a `Template`, but this breaks the sphinx build...\u001b[39;00m\n\u001b[0;32m   1189\u001b[0m     env \u001b[38;5;241m=\u001b[39m get_spontaneous_environment(\n\u001b[0;32m   1190\u001b[0m         \u001b[38;5;28mcls\u001b[39m\u001b[38;5;241m.\u001b[39menvironment_class,  \u001b[38;5;66;03m# type: ignore\u001b[39;00m\n\u001b[0;32m   1191\u001b[0m         block_start_string,\n\u001b[1;32m   (...)\u001b[0m\n\u001b[0;32m   1212\u001b[0m         enable_async,\n\u001b[0;32m   1213\u001b[0m     )\n\u001b[1;32m-> 1214\u001b[0m     \u001b[38;5;28;01mreturn\u001b[39;00m \u001b[43menv\u001b[49m\u001b[38;5;241;43m.\u001b[39;49m\u001b[43mfrom_string\u001b[49m\u001b[43m(\u001b[49m\u001b[43msource\u001b[49m\u001b[43m,\u001b[49m\u001b[43m \u001b[49m\u001b[43mtemplate_class\u001b[49m\u001b[38;5;241;43m=\u001b[39;49m\u001b[38;5;28;43mcls\u001b[39;49m\u001b[43m)\u001b[49m\n",
      "File \u001b[1;32m~\\anaconda3\\envs\\geospatial\\lib\\site-packages\\jinja2\\environment.py:1111\u001b[0m, in \u001b[0;36mEnvironment.from_string\u001b[1;34m(self, source, globals, template_class)\u001b[0m\n\u001b[0;32m   1109\u001b[0m gs \u001b[38;5;241m=\u001b[39m \u001b[38;5;28mself\u001b[39m\u001b[38;5;241m.\u001b[39mmake_globals(\u001b[38;5;28mglobals\u001b[39m)\n\u001b[0;32m   1110\u001b[0m \u001b[38;5;28mcls\u001b[39m \u001b[38;5;241m=\u001b[39m template_class \u001b[38;5;129;01mor\u001b[39;00m \u001b[38;5;28mself\u001b[39m\u001b[38;5;241m.\u001b[39mtemplate_class\n\u001b[1;32m-> 1111\u001b[0m \u001b[38;5;28;01mreturn\u001b[39;00m \u001b[38;5;28mcls\u001b[39m\u001b[38;5;241m.\u001b[39mfrom_code(\u001b[38;5;28mself\u001b[39m, \u001b[38;5;28;43mself\u001b[39;49m\u001b[38;5;241;43m.\u001b[39;49m\u001b[43mcompile\u001b[49m\u001b[43m(\u001b[49m\u001b[43msource\u001b[49m\u001b[43m)\u001b[49m, gs, \u001b[38;5;28;01mNone\u001b[39;00m)\n",
      "File \u001b[1;32m~\\anaconda3\\envs\\geospatial\\lib\\site-packages\\jinja2\\environment.py:771\u001b[0m, in \u001b[0;36mEnvironment.compile\u001b[1;34m(self, source, name, filename, raw, defer_init)\u001b[0m\n\u001b[0;32m    769\u001b[0m     \u001b[38;5;28;01mreturn\u001b[39;00m \u001b[38;5;28mself\u001b[39m\u001b[38;5;241m.\u001b[39m_compile(source, filename)\n\u001b[0;32m    770\u001b[0m \u001b[38;5;28;01mexcept\u001b[39;00m TemplateSyntaxError:\n\u001b[1;32m--> 771\u001b[0m     \u001b[38;5;28;43mself\u001b[39;49m\u001b[38;5;241;43m.\u001b[39;49m\u001b[43mhandle_exception\u001b[49m\u001b[43m(\u001b[49m\u001b[43msource\u001b[49m\u001b[38;5;241;43m=\u001b[39;49m\u001b[43msource_hint\u001b[49m\u001b[43m)\u001b[49m\n",
      "File \u001b[1;32m~\\anaconda3\\envs\\geospatial\\lib\\site-packages\\jinja2\\environment.py:942\u001b[0m, in \u001b[0;36mEnvironment.handle_exception\u001b[1;34m(self, source)\u001b[0m\n\u001b[0;32m    937\u001b[0m \u001b[38;5;250m\u001b[39m\u001b[38;5;124;03m\"\"\"Exception handling helper.  This is used internally to either raise\u001b[39;00m\n\u001b[0;32m    938\u001b[0m \u001b[38;5;124;03mrewritten exceptions or return a rendered traceback for the template.\u001b[39;00m\n\u001b[0;32m    939\u001b[0m \u001b[38;5;124;03m\"\"\"\u001b[39;00m\n\u001b[0;32m    940\u001b[0m \u001b[38;5;28;01mfrom\u001b[39;00m\u001b[38;5;250m \u001b[39m\u001b[38;5;21;01m.\u001b[39;00m\u001b[38;5;21;01mdebug\u001b[39;00m\u001b[38;5;250m \u001b[39m\u001b[38;5;28;01mimport\u001b[39;00m rewrite_traceback_stack\n\u001b[1;32m--> 942\u001b[0m \u001b[38;5;28;01mraise\u001b[39;00m rewrite_traceback_stack(source\u001b[38;5;241m=\u001b[39msource)\n",
      "File \u001b[1;32m<unknown>:5\u001b[0m, in \u001b[0;36mtemplate\u001b[1;34m()\u001b[0m\n",
      "\u001b[1;31mTemplateSyntaxError\u001b[0m: Missing end of comment tag"
     ]
    }
   ],
   "source": [
    "marker_cluster = MarkerCluster().add_to(m)\n",
    "\n",
    "for row_index, row_values in tp.iterrows():\n",
    "    if pd.isna(row_values['lat']) or pd.isna(row_values['lon']):\n",
    "        continue\n",
    "    \n",
    "    if row_values['truck'] in (['METRO','metro','Metro']):\n",
    "        markercolor= \"blue\"\n",
    "    elif row_values['truck'] in (['WASTE IND']):\n",
    "        markercolor= \"green\"\n",
    "    elif row_values['truck'] in (['RED RIVER']):\n",
    "        markercolor= \"red\"\n",
    "    else:\n",
    "        markercolor = \"black\"\n",
    "    \n",
    "    loc = [row_values['lat'], row_values['lon']]\n",
    "    address = str(row_values['address'])\n",
    "    description = str(row_values['desc'])\n",
    "    date = str(row_values['date_opened'])\n",
    "    request_num = str(row_values['request_num'])\n",
    "    comp = str(row_values['truck'])\n",
    "    req = str(row_values['request'])\n",
    "    icon=folium.Icon(color=markercolor,icon=\"house\", prefix='fa')\n",
    "\n",
    "    html = \"\"\"<h3>\"\"\"+address+\"\"\"</h3><br>\n",
    "    <p> Opened: \"\"\"+date+\"\"\"<br><br>\n",
    "    Contractor: \"\"\"+comp+\"\"\"<br><br>\n",
    "    Request:\"\"\"+req+\"\"\"<br>\n",
    "    Description: \"\"\"+description+\"\"\"<br></p>\"\"\"\n",
    "\n",
    "    iframe = branca.element.IFrame(html, width=250, height=200)\n",
    "    popup = folium.Popup(iframe, max_width=500)\n",
    "    \n",
    "    marker = folium.Marker(\n",
    "        location = loc, \n",
    "        popup = popup, \n",
    "        icon = icon) \n",
    "\n",
    "    marker.add_to(marker_cluster)"
   ]
  },
  {
   "cell_type": "code",
   "execution_count": null,
   "id": "f479aa19-e276-4290-89bb-49f279bf6994",
   "metadata": {},
   "outputs": [],
   "source": []
  }
 ],
 "metadata": {
  "kernelspec": {
   "display_name": "Python 3 (ipykernel)",
   "language": "python",
   "name": "python3"
  },
  "language_info": {
   "codemirror_mode": {
    "name": "ipython",
    "version": 3
   },
   "file_extension": ".py",
   "mimetype": "text/x-python",
   "name": "python",
   "nbconvert_exporter": "python",
   "pygments_lexer": "ipython3",
   "version": "3.10.17"
  }
 },
 "nbformat": 4,
 "nbformat_minor": 5
}
